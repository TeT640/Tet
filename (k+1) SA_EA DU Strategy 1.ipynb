{
  "cells": [
    {
      "cell_type": "code",
      "execution_count": 1,
      "metadata": {
        "id": "QAdQcus3fANF",
        "outputId": "0660c64e-f9f2-489e-da62-9822dc05298e"
      },
      "outputs": [],
      "source": [
        "import os\n",
        "os.chdir(\"/users/eleves-b/2022/mohammed.lagmah/T/1/game_code\")\n",
        "from game_simulation1 import *\n",
        "import matplotlib.pyplot as plt"
      ]
    },
    {
      "cell_type": "markdown",
      "metadata": {
        "id": "DZgD5MqkfANJ"
      },
      "source": [
        "### (k+1) SA_EA using stategy 1"
      ]
    },
    {
      "cell_type": "code",
      "execution_count": 6,
      "metadata": {},
      "outputs": [],
      "source": [
        "def sa_esk(iterations,num_games,k,tau,features):\n",
        "      W = [(np.zeros(7),100 * np.ones(7), simulation(np.zeros(7),features,10)) for i in range(k)]\n",
        "\n",
        "      learning_curve =[]\n",
        "      std=[]\n",
        "\n",
        "      for t in range(iterations):\n",
        "        # if t%5==0:\n",
        "        #    Wp = []\n",
        "        #    for i in range(k):\n",
        "        #        wp,Sigmap,scorep = W[i]\n",
        "        #        scorep = simulation(wp,features,3)\n",
        "        #        Wp.append((wp,Sigmap,scorep))\n",
        "        #    W=Wp\n",
        "        w,Sigma,score = W[np.random.randint(0, k)]\n",
        "        new_Sigma = Sigma * np.exp(tau * np.random.normal(loc=[0]*len(w), scale=np.sqrt([1]*len(w))))\n",
        "        new_w = w+new_Sigma*np.random.normal(loc=[0]*len(w), scale=np.sqrt([1]*len(w)))\n",
        "        new_score  = simulation(new_w,features,10)\n",
        "        W.append((new_w,new_Sigma,new_score))\n",
        "        W.sort(reverse=True, key=lambda x: x[2])\n",
        "        W = W[:k]\n",
        "        learning_curve.append(simulation(W[0][2],features))\n",
        "\n",
        "        if t%20 ==0:\n",
        "          print(\"Iteration {}: Average score of best samples: {},{}\".format(t+1, simulation2(W[0][0],features),W[0][2]))\n",
        "      return learning_curve,std,W"
      ]
    },
    {
      "cell_type": "markdown",
      "metadata": {},
      "source": [
        "### Evaluation using features DU Strategy 1"
      ]
    },
    {
      "cell_type": "code",
      "execution_count": 4,
      "metadata": {},
      "outputs": [
        {
          "name": "stdout",
          "output_type": "stream",
          "text": [
            "Iteration 1: Average score of best samples: 18.0,0.2\n",
            "Iteration 21: Average score of best samples: 223.0,285.3\n",
            "Iteration 41: Average score of best samples: 144.0,658.0000000000001\n",
            "Iteration 61: Average score of best samples: 3335.0,672.8000000000001\n",
            "Iteration 81: Average score of best samples: 529.0,672.8000000000001\n",
            "Iteration 101: Average score of best samples: 2631.0,672.8000000000001\n",
            "Iteration 121: Average score of best samples: 957.0,707.3\n",
            "Iteration 141: Average score of best samples: 2064.0,1113.3\n",
            "Iteration 161: Average score of best samples: 6557.0,2050.0\n",
            "Iteration 181: Average score of best samples: 348.0,2050.0\n",
            "Iteration 201: Average score of best samples: 2421.0,2050.0\n",
            "Iteration 221: Average score of best samples: 336.0,2050.0\n",
            "Iteration 241: Average score of best samples: 4917.0,2050.0\n",
            "Iteration 261: Average score of best samples: 670.0,2050.0\n",
            "Iteration 281: Average score of best samples: 351.0,2050.0\n",
            "Iteration 301: Average score of best samples: 1979.0,2050.0\n"
          ]
        },
        {
          "ename": "KeyboardInterrupt",
          "evalue": "",
          "output_type": "error",
          "traceback": [
            "\u001b[0;31m---------------------------------------------------------------------------\u001b[0m",
            "\u001b[0;31mKeyboardInterrupt\u001b[0m                         Traceback (most recent call last)",
            "Cell \u001b[0;32mIn[4], line 2\u001b[0m\n\u001b[1;32m      1\u001b[0m np\u001b[38;5;241m.\u001b[39mrandom\u001b[38;5;241m.\u001b[39mseed(\u001b[38;5;241m42\u001b[39m)\n\u001b[0;32m----> 2\u001b[0m learning_curve_sa_es,std_WN,W\u001b[38;5;241m=\u001b[39m\u001b[43msa_esk\u001b[49m\u001b[43m(\u001b[49m\u001b[38;5;241;43m1000\u001b[39;49m\u001b[43m,\u001b[49m\u001b[38;5;241;43m1\u001b[39;49m\u001b[43m,\u001b[49m\u001b[38;5;241;43m5\u001b[39;49m\u001b[43m,\u001b[49m\u001b[38;5;241;43m0.1\u001b[39;49m\u001b[43m,\u001b[49m\u001b[38;5;241;43m1\u001b[39;49m\u001b[43m)\u001b[49m\n",
            "Cell \u001b[0;32mIn[3], line 18\u001b[0m, in \u001b[0;36msa_esk\u001b[0;34m(iterations, num_games, k, tau, features)\u001b[0m\n\u001b[1;32m     16\u001b[0m new_Sigma \u001b[38;5;241m=\u001b[39m Sigma \u001b[38;5;241m*\u001b[39m np\u001b[38;5;241m.\u001b[39mexp(tau \u001b[38;5;241m*\u001b[39m np\u001b[38;5;241m.\u001b[39mrandom\u001b[38;5;241m.\u001b[39mnormal(loc\u001b[38;5;241m=\u001b[39m[\u001b[38;5;241m0\u001b[39m]\u001b[38;5;241m*\u001b[39m\u001b[38;5;28mlen\u001b[39m(w), scale\u001b[38;5;241m=\u001b[39mnp\u001b[38;5;241m.\u001b[39msqrt([\u001b[38;5;241m1\u001b[39m]\u001b[38;5;241m*\u001b[39m\u001b[38;5;28mlen\u001b[39m(w))))\n\u001b[1;32m     17\u001b[0m new_w \u001b[38;5;241m=\u001b[39m w\u001b[38;5;241m+\u001b[39mnew_Sigma\u001b[38;5;241m*\u001b[39mnp\u001b[38;5;241m.\u001b[39mrandom\u001b[38;5;241m.\u001b[39mnormal(loc\u001b[38;5;241m=\u001b[39m[\u001b[38;5;241m0\u001b[39m]\u001b[38;5;241m*\u001b[39m\u001b[38;5;28mlen\u001b[39m(w), scale\u001b[38;5;241m=\u001b[39mnp\u001b[38;5;241m.\u001b[39msqrt([\u001b[38;5;241m1\u001b[39m]\u001b[38;5;241m*\u001b[39m\u001b[38;5;28mlen\u001b[39m(w)))\n\u001b[0;32m---> 18\u001b[0m new_score  \u001b[38;5;241m=\u001b[39m \u001b[43msimulation\u001b[49m\u001b[43m(\u001b[49m\u001b[43mnew_w\u001b[49m\u001b[43m,\u001b[49m\u001b[43mfeatures\u001b[49m\u001b[43m,\u001b[49m\u001b[38;5;241;43m10\u001b[39;49m\u001b[43m)\u001b[49m\n\u001b[1;32m     19\u001b[0m W\u001b[38;5;241m.\u001b[39mappend((new_w,new_Sigma,new_score))\n\u001b[1;32m     20\u001b[0m W\u001b[38;5;241m.\u001b[39msort(reverse\u001b[38;5;241m=\u001b[39m\u001b[38;5;28;01mTrue\u001b[39;00m, key\u001b[38;5;241m=\u001b[39m\u001b[38;5;28;01mlambda\u001b[39;00m x: x[\u001b[38;5;241m2\u001b[39m])\n",
            "File \u001b[0;32m~/T/1/game_code/game_simulation1.py:379\u001b[0m, in \u001b[0;36msimulation\u001b[0;34m(W, features, ite)\u001b[0m\n\u001b[1;32m    376\u001b[0m \u001b[38;5;28mtype\u001b[39m \u001b[38;5;241m=\u001b[39m np\u001b[38;5;241m.\u001b[39mrandom\u001b[38;5;241m.\u001b[39mrandint(\u001b[38;5;241m0\u001b[39m,\u001b[38;5;241m6\u001b[39m)\n\u001b[1;32m    377\u001b[0m game\u001b[38;5;241m.\u001b[39mnew_figure(\u001b[38;5;28mtype\u001b[39m)\n\u001b[0;32m--> 379\u001b[0m col, rot \u001b[38;5;241m=\u001b[39m \u001b[43mevaluate_best_move\u001b[49m\u001b[43m(\u001b[49m\u001b[43mW\u001b[49m\u001b[43m,\u001b[49m\u001b[43mgame\u001b[49m\u001b[38;5;241;43m.\u001b[39;49m\u001b[43mfield\u001b[49m\u001b[43m,\u001b[49m\u001b[38;5;28;43mtype\u001b[39;49m\u001b[43m,\u001b[49m\u001b[43mfeatures\u001b[49m\u001b[43m)\u001b[49m\n\u001b[1;32m    380\u001b[0m game\u001b[38;5;241m.\u001b[39mrotate(rot)\n\u001b[1;32m    381\u001b[0m game\u001b[38;5;241m.\u001b[39mgo_side(col)\n",
            "File \u001b[0;32m~/T/1/game_code/game_simulation1.py:305\u001b[0m, in \u001b[0;36mevaluate_best_move\u001b[0;34m(W, field, type, features)\u001b[0m\n\u001b[1;32m    301\u001b[0m game_copy\u001b[38;5;241m.\u001b[39mgo_side(col) \n\u001b[1;32m    304\u001b[0m \u001b[38;5;28;01mif\u001b[39;00m \u001b[38;5;129;01mnot\u001b[39;00m game_copy\u001b[38;5;241m.\u001b[39mintersects():\n\u001b[0;32m--> 305\u001b[0m     \u001b[43mgame_copy\u001b[49m\u001b[38;5;241;43m.\u001b[39;49m\u001b[43mgo_space\u001b[49m\u001b[43m(\u001b[49m\u001b[43m)\u001b[49m\n\u001b[1;32m    306\u001b[0m     \u001b[38;5;28;01mif\u001b[39;00m features \u001b[38;5;241m==\u001b[39m\u001b[38;5;241m0\u001b[39m:\n\u001b[1;32m    307\u001b[0m         score\u001b[38;5;241m.\u001b[39mappend(evaluate_B(W,game_copy\u001b[38;5;241m.\u001b[39mfield))\n",
            "File \u001b[0;32m~/T/1/game_code/tetris1.py:98\u001b[0m, in \u001b[0;36mTetris.go_space\u001b[0;34m(self)\u001b[0m\n\u001b[1;32m     97\u001b[0m \u001b[38;5;28;01mdef\u001b[39;00m \u001b[38;5;21mgo_space\u001b[39m(\u001b[38;5;28mself\u001b[39m):\n\u001b[0;32m---> 98\u001b[0m     \u001b[38;5;28;01mwhile\u001b[39;00m \u001b[38;5;129;01mnot\u001b[39;00m \u001b[38;5;28;43mself\u001b[39;49m\u001b[38;5;241;43m.\u001b[39;49m\u001b[43mintersects\u001b[49m\u001b[43m(\u001b[49m\u001b[43m)\u001b[49m:\n\u001b[1;32m     99\u001b[0m         \u001b[38;5;28mself\u001b[39m\u001b[38;5;241m.\u001b[39mfigure\u001b[38;5;241m.\u001b[39my \u001b[38;5;241m+\u001b[39m\u001b[38;5;241m=\u001b[39m \u001b[38;5;241m1\u001b[39m\n\u001b[1;32m    100\u001b[0m     \u001b[38;5;28mself\u001b[39m\u001b[38;5;241m.\u001b[39mfigure\u001b[38;5;241m.\u001b[39my \u001b[38;5;241m-\u001b[39m\u001b[38;5;241m=\u001b[39m \u001b[38;5;241m1\u001b[39m\n",
            "File \u001b[0;32m~/T/1/game_code/tetris1.py:75\u001b[0m, in \u001b[0;36mTetris.intersects\u001b[0;34m(self)\u001b[0m\n\u001b[1;32m     73\u001b[0m \u001b[38;5;28;01mfor\u001b[39;00m i \u001b[38;5;129;01min\u001b[39;00m \u001b[38;5;28mrange\u001b[39m(\u001b[38;5;241m4\u001b[39m):\n\u001b[1;32m     74\u001b[0m     \u001b[38;5;28;01mfor\u001b[39;00m j \u001b[38;5;129;01min\u001b[39;00m \u001b[38;5;28mrange\u001b[39m(\u001b[38;5;241m4\u001b[39m):\n\u001b[0;32m---> 75\u001b[0m         \u001b[38;5;28;01mif\u001b[39;00m \u001b[43mi\u001b[49m\u001b[43m \u001b[49m\u001b[38;5;241;43m*\u001b[39;49m\u001b[43m \u001b[49m\u001b[38;5;241;43m4\u001b[39;49m\u001b[43m \u001b[49m\u001b[38;5;241;43m+\u001b[39;49m\u001b[43m \u001b[49m\u001b[43mj\u001b[49m \u001b[38;5;129;01min\u001b[39;00m \u001b[38;5;28mself\u001b[39m\u001b[38;5;241m.\u001b[39mfigure\u001b[38;5;241m.\u001b[39mimage():\n\u001b[1;32m     76\u001b[0m             \u001b[38;5;28;01mif\u001b[39;00m i \u001b[38;5;241m+\u001b[39m \u001b[38;5;28mself\u001b[39m\u001b[38;5;241m.\u001b[39mfigure\u001b[38;5;241m.\u001b[39my \u001b[38;5;241m>\u001b[39m \u001b[38;5;28mself\u001b[39m\u001b[38;5;241m.\u001b[39mheight \u001b[38;5;241m-\u001b[39m \u001b[38;5;241m1\u001b[39m \u001b[38;5;129;01mor\u001b[39;00m \\\n\u001b[1;32m     77\u001b[0m                     j \u001b[38;5;241m+\u001b[39m \u001b[38;5;28mself\u001b[39m\u001b[38;5;241m.\u001b[39mfigure\u001b[38;5;241m.\u001b[39mx \u001b[38;5;241m>\u001b[39m \u001b[38;5;28mself\u001b[39m\u001b[38;5;241m.\u001b[39mwidth \u001b[38;5;241m-\u001b[39m \u001b[38;5;241m1\u001b[39m \u001b[38;5;129;01mor\u001b[39;00m \\\n\u001b[1;32m     78\u001b[0m                     j \u001b[38;5;241m+\u001b[39m \u001b[38;5;28mself\u001b[39m\u001b[38;5;241m.\u001b[39mfigure\u001b[38;5;241m.\u001b[39mx \u001b[38;5;241m<\u001b[39m \u001b[38;5;241m0\u001b[39m \u001b[38;5;129;01mor\u001b[39;00m \\\n\u001b[1;32m     79\u001b[0m                     \u001b[38;5;28mself\u001b[39m\u001b[38;5;241m.\u001b[39mfield[i \u001b[38;5;241m+\u001b[39m \u001b[38;5;28mself\u001b[39m\u001b[38;5;241m.\u001b[39mfigure\u001b[38;5;241m.\u001b[39my][j \u001b[38;5;241m+\u001b[39m \u001b[38;5;28mself\u001b[39m\u001b[38;5;241m.\u001b[39mfigure\u001b[38;5;241m.\u001b[39mx] \u001b[38;5;241m>\u001b[39m \u001b[38;5;241m0\u001b[39m:\n\u001b[1;32m     80\u001b[0m                 intersection \u001b[38;5;241m=\u001b[39m \u001b[38;5;28;01mTrue\u001b[39;00m\n",
            "\u001b[0;31mKeyboardInterrupt\u001b[0m: "
          ]
        }
      ],
      "source": [
        "np.random.seed(42)\n",
        "learning_curve_sa_es,std_WN,W=sa_esk(1000,1,5,0.1,1)"
      ]
    },
    {
      "cell_type": "code",
      "execution_count": null,
      "metadata": {},
      "outputs": [],
      "source": [
        "plt.plot(range(1, 1000 + 1), learning_curve_sa_es, '-', label='Learning Curve')\n",
        "plt.xlabel('Iteration')\n",
        "plt.ylabel(f'Average Score of 1 games')\n",
        "plt.title('Learning Curve for (5+1)-SA-ES Using tau = 0.1 and Feature Set DU and Strategy 1')\n",
        "plt.grid(True)\n",
        "plt.show()\n",
        "plt.savefig('learning_curve_5p1_SAES_DU_Strategy1.png', dpi=300, bbox_inches='tight')"
      ]
    }
  ],
  "metadata": {
    "colab": {
      "provenance": []
    },
    "kernelspec": {
      "display_name": "Python 3",
      "language": "python",
      "name": "python3"
    },
    "language_info": {
      "codemirror_mode": {
        "name": "ipython",
        "version": 3
      },
      "file_extension": ".py",
      "mimetype": "text/x-python",
      "name": "python",
      "nbconvert_exporter": "python",
      "pygments_lexer": "ipython3",
      "version": "3.9.21"
    }
  },
  "nbformat": 4,
  "nbformat_minor": 0
}
