{
 "cells": [
  {
   "cell_type": "code",
   "execution_count": 13,
   "metadata": {},
   "outputs": [],
   "source": [
    "import tetris\n",
    "import numpy as np\n",
    "import time\n",
    "import copy\n",
    "figures = [\n",
    "        [[1, 5, 9, 13], [4, 5, 6, 7]],\n",
    "        [[4, 5, 9, 10], [2, 6, 5, 9]],\n",
    "        [[6, 7, 9, 10], [1, 5, 6, 10]],\n",
    "        [[1, 2, 5, 9], [0, 4, 5, 6], [1, 5, 9, 8], [4, 5, 6, 10]],\n",
    "        [[1, 2, 6, 10], [5, 6, 7, 9], [2, 6, 10, 11], [3, 5, 6, 7]],\n",
    "        [[1, 4, 5, 6], [1, 4, 5, 9], [4, 5, 6, 9], [1, 5, 6, 9]],\n",
    "        [[1, 2, 5, 6]],\n",
    "    ]\n",
    "\n",
    "\n",
    "def column_height(field): # from top to bottom\n",
    "    h = []\n",
    "    for j in range(10):\n",
    "        column = [field[i][j] for i in range(20)]\n",
    "        height = 0\n",
    "        while height < 20 and column[height] == 0:\n",
    "            height += 1\n",
    "        h.append(20 - height)\n",
    "    return h\n",
    "\n",
    "\n",
    "def maximum_height(field):\n",
    "    return(max(column_height(field)))\n",
    "\n",
    "def column_difference(field):# absolute difference between adjacent columns\n",
    "    df=[]\n",
    "    h=column_height(field)\n",
    "    for j in range(9):\n",
    "        df.append(abs(h[j+1]-h[j]))\n",
    "    return(df)\n",
    "\n",
    "def bumpiness(field):\n",
    "    return(sum(column_difference(field)))\n",
    "\n",
    "def holes(field):\n",
    "    L = 0\n",
    "    h  =column_height(field)\n",
    "    for j in range(10):\n",
    "        for i in range(20-h[j],20):\n",
    "            if field[i][j] == 0:\n",
    "                L+=1\n",
    "    return(L)\n",
    "\n",
    "def evaluate(W, field): \n",
    "    #W=[w1, ..., w21] vector of parameters to tune \n",
    "    h=column_height(field)\n",
    "    dh=column_difference(field)\n",
    "    L=holes(field)\n",
    "    H=maximum_height(field)\n",
    "    S = 0\n",
    "    for k in range (len(h)):\n",
    "        S += h[k] * W[k]\n",
    "    for k in range (len(dh)):\n",
    "        S += dh[k] * W[10+k]\n",
    "    S += W[19] * L\n",
    "    S += W[20] * H\n",
    "    return(S)\n",
    "\n",
    "\n",
    "def evaluate_best_move(W,field,type):\n",
    "    L=[]\n",
    "    score=[]\n",
    "    n_rot = len(figures[type])\n",
    "    \n",
    "    for k in range (n_rot):\n",
    "        for col in range (-5,10):\n",
    "            game_copy = tetris.Tetris(20,10)\n",
    "            \n",
    "            game_copy.field = [[cell for cell in row] for row in field]\n",
    "\n",
    "            game_copy.new_figure(type)\n",
    "            game_copy.rotate(k)\n",
    "            game_copy.go_side(col) \n",
    "            \n",
    "\n",
    "            if not game_copy.intersects():\n",
    "                game_copy.go_space()\n",
    "                score.append(evaluate(W,game_copy.field))\n",
    "                L.append((col,k))\n",
    "    if len(L)>0:\n",
    "        best_move = score.index(min(score))\n",
    "        return(L[best_move])\n",
    "    else : \n",
    "        return((0,0))\n",
    "\n",
    "def get_next_state(tetris_instance, figure_type):\n",
    "    '''Returns all possible moves as { (x, rotation): features }'''\n",
    "    states = {}\n",
    "    num_rotations = len(figures[figure_type])  # Number of rotations for the given piece type\n",
    "\n",
    "    for rotation in range(num_rotations):  # Iterate through all possible rotations\n",
    "        # Get the current rotation of the piece\n",
    "        piece = figures[figure_type][rotation]\n",
    "\n",
    "        # Calculate the x-boundaries of the piece\n",
    "        min_x = min(p % 4 for p in piece)\n",
    "        max_x = max(p % 4 for p in piece)\n",
    "\n",
    "        for x in range(-min_x, tetris_instance.width - max_x):  # Iterate through all possible x positions\n",
    "            tetris_copy = copy.deepcopy(tetris_instance)  # Copy the Tetris game state to simulate moves\n",
    "            tetris_copy.new_figure(figure_type)  # Initialize a new piece\n",
    "            tetris_copy.figure.x = x  # Set x-position\n",
    "            tetris_copy.figure.rotation = rotation  # Set rotation\n",
    "\n",
    "            # Simulate dropping the piece\n",
    "            tetris_copy.go_space()\n",
    "\n",
    "            # Extract features after the piece placement\n",
    "            temp_field = tetris_copy.field\n",
    "            lines_cleared = tetris_copy.score - tetris_instance.score\n",
    "            holes_count = holes(temp_field)\n",
    "            bumpiness_value = bumpiness(temp_field)\n",
    "            total_height = sum(column_height(temp_field))\n",
    "\n",
    "            # Store the results for this move\n",
    "            states[(x, rotation)] = [lines_cleared, holes_count, bumpiness_value, total_height]\n",
    "\n",
    "    return states\n",
    "def get_state_size():\n",
    "    '''Renvoie la taille du vecteur d’état'''\n",
    "    return 4\n",
    "\n",
    "\n",
    "def play_move(env, x, rotation):\n",
    "    curr_lines=env.score\n",
    "    reward, game_over = env.play(x, rotation)\n",
    "    lines_cleared = env.score - curr_lines\n",
    "    column_heights = column_height(env.field)\n",
    "    bumpiness_value = bumpiness(env.field)\n",
    "    total_height = sum(column_heights)\n",
    "    holes_count = holes(env.field)\n",
    "    new_state = (lines_cleared, holes_count, bumpiness_value, total_height)\n",
    "    return reward, new_state, game_over \n",
    "\n",
    "def simulation(W):\n",
    "    \n",
    "    game = tetris.Tetris(20, 10)\n",
    "    while game.state != \"gameover\":\n",
    "\n",
    "        type = np.random.randint(0,6)\n",
    "        game.new_figure(type)\n",
    "\n",
    "        col, rot = evaluate_best_move(W,game.field,type)\n",
    "        game.rotate(rot)\n",
    "        game.go_side(col)\n",
    "        if game.intersects():\n",
    "            game.state=\"gameover\"\n",
    "        \n",
    "        else:\n",
    "            game.go_space()\n",
    "\n",
    "    return(game.score)"
   ]
  },
  {
   "cell_type": "code",
   "execution_count": null,
   "metadata": {},
   "outputs": [],
   "source": [
    "import random\n",
    "import cv2\n",
    "import numpy as np\n",
    "from PIL import Image\n",
    "from time import sleep\n",
    "import copy\n",
    "\n",
    "# Pour le modèle Keras\n",
    "from keras.models import Sequential, load_model\n",
    "from keras.layers import Dense,Input,Conv2D,Flatten\n",
    "from collections import deque\n",
    "\n",
    "from IPython.display import display, clear_output\n",
    "from PIL import Image\n",
    "import numpy as np\n",
    "import cv2\n",
    "class DQNAgent:\n",
    "    def __init__(self, state_size, board_shape=None, model_type='dense',\n",
    "                 mem_size=10000, discount=0.95, epsilon=1, epsilon_min=0,\n",
    "                 epsilon_stop_episode=0, n_neurons=[32, 32],\n",
    "                 activations=['relu', 'relu', 'linear'], loss='mse',\n",
    "                 optimizer='adam', replay_start_size=None, modelFile=None):\n",
    "\n",
    "        if model_type not in ['dense', 'conv']:\n",
    "            raise ValueError(\"model_type must be 'dense' or 'conv'\")\n",
    "\n",
    "        self.model_type = model_type\n",
    "        self.state_size = state_size\n",
    "        self.board_shape = board_shape  # Ex: (20, 10) pour Tetris\n",
    "\n",
    "        self.mem_size = mem_size\n",
    "        self.memory = deque(maxlen=mem_size)\n",
    "        self.discount = discount\n",
    "        if epsilon_stop_episode > 0:\n",
    "            self.epsilon = epsilon\n",
    "            self.epsilon_min = epsilon_min\n",
    "            self.epsilon_decay = (self.epsilon - self.epsilon_min) / epsilon_stop_episode\n",
    "        else:\n",
    "            self.epsilon = 0\n",
    "\n",
    "        self.n_neurons = n_neurons\n",
    "        self.activations = activations\n",
    "        self.loss = loss\n",
    "        self.optimizer = optimizer\n",
    "        if not replay_start_size:\n",
    "            replay_start_size = mem_size / 2\n",
    "        self.replay_start_size = replay_start_size\n",
    "\n",
    "        if modelFile is not None:\n",
    "            self.model = load_model(modelFile)\n",
    "        else:\n",
    "            self.model = self._build_model()\n",
    "\n",
    "    def _build_model(self):\n",
    "        model = Sequential()\n",
    "        model.add(Dense(self.n_neurons[0], input_dim=self.state_size, activation=self.activations[0]))\n",
    "        for i in range(1, len(self.n_neurons)):\n",
    "            model.add(Dense(self.n_neurons[i], activation=self.activations[i]))\n",
    "        model.add(Dense(1, activation=self.activations[-1]))\n",
    "        model.compile(loss=self.loss, optimizer=self.optimizer)\n",
    "        return model\n",
    "\n",
    "    def predict_value(self, state):\n",
    "        state = np.reshape(state, [1, self.state_size])  # Reshape to (1, 4)\n",
    "        return self.model.predict(state, verbose=0)[0]\n",
    "\n",
    "\n",
    "    def act(self, state):\n",
    "        '''Retourne le score attendu pour un état (avec exploration)'''\n",
    "        state = np.reshape(state, [1, self.state_size])\n",
    "        if random.random() <= self.epsilon:\n",
    "            return self.random_value()\n",
    "        else:\n",
    "            return self.predict_value(state)\n",
    "\n",
    "    def best_state(self, states):\n",
    "        '''Retourne le meilleur état (celui qui a le score attendu le plus élevé)\n",
    "        à partir d'une collection d'états.\n",
    "        '''\n",
    "        max_value = None\n",
    "        best_state = None\n",
    "        if random.random() <= self.epsilon:\n",
    "            return random.choice(list(states))\n",
    "        else:\n",
    "            for state in states:\n",
    "                value = self.predict_value(np.reshape(state, [1, self.state_size]))\n",
    "                if max_value is None or value > max_value:\n",
    "                    max_value = value\n",
    "                    best_state = state\n",
    "        return best_state\n",
    "\n",
    "    def train(self, batch_size=32, epochs=3):\n",
    "        '''Entraîne le modèle sur un batch de transitions'''\n",
    "        n = len(self.memory)\n",
    "        if n >= self.replay_start_size and n >= batch_size:\n",
    "            batch = random.sample(self.memory, batch_size)\n",
    "            # Prédire les scores pour les prochains états en batch\n",
    "            next_states = np.array([x[1] for x in batch])\n",
    "            next_qs = [x[0] for x in self.model.predict(next_states)]\n",
    "            x = []\n",
    "            y = []\n",
    "            for i, (state, _, reward, done) in enumerate(batch):\n",
    "                if not done:\n",
    "                    new_q = reward + self.discount * next_qs[i]\n",
    "                else:\n",
    "                    new_q = reward\n",
    "                x.append(state)\n",
    "                y.append(new_q)\n",
    "            self.model.fit(np.array(x), np.array(y), batch_size=batch_size, epochs=epochs, verbose=0)\n",
    "            if self.epsilon > self.epsilon_min:\n",
    "                self.epsilon -= self.epsilon_decay\n",
    "    def update_epsilon(self):\n",
    "      if self.epsilon > self.epsilon_min:\n",
    "          self.epsilon -= self.epsilon_decay\n",
    "          self.epsilon = max(self.epsilon, self.epsilon_min)\n",
    "\n",
    "    def add_to_memory(self, current_state, action, reward, next_state, done):\n",
    "        '''Ajoute une transition (state, action, reward, next_state, done) à la mémoire'''\n",
    "        self.memory.append((current_state, action, reward, next_state, done))\n",
    "\n",
    "    def save_model(self, name):\n",
    "        '''Sauvegarde le modèle entraîné'''\n",
    "        self.model.save(name)"
   ]
  },
  {
   "cell_type": "code",
   "execution_count": 15,
   "metadata": {},
   "outputs": [],
   "source": [
    "import os\n",
    "from tqdm import tqdm  # Pour afficher une barre de progression (optionnel)\n",
    "env = tetris.Tetris(20,10)\n",
    "\n",
    "# Paramètres d'entraînement\n",
    "episodes = 1600                # nombre total d'épisodes\n",
    "max_steps = None         # nombre maximum d'actions par épisode (None = illimité)\n",
    "epsilon_stop_episode = 1400    # épisode auquel l'exploration aléatoire s'arrête\n",
    "mem_size = 1000                # taille max de la mémoire (nombre d'étapes stockées)\n",
    "discount = 0.95                # facteur de discount pour Q-learning\n",
    "batch_size = 128               # taille du batch pour l'entraînement\n",
    "epochs = 1                     # nombre d'epochs par entraînement\n",
    "render_every = 50              # affichage du jeu tous les x épisodes\n",
    "render_delay = None            # délai entre les frames (None = sans délai)\n",
    "replay_start_size = 1000       # nombre minimal de transitions stockées pour démarrer l'entraînement\n",
    "train_every = 1                # entraînement de l'agent tous les x épisodes\n",
    "n_neurons = [32, 32, 32]       # nombre de neurones par couche cachée\n",
    "activations = ['relu', 'relu', 'relu', 'linear']\n",
    "save_best_model = True         # sauvegarder le meilleur modèle dans \"best.keras\"\n",
    "model_file = \"sample.keras\""
   ]
  },
  {
   "cell_type": "code",
   "execution_count": 16,
   "metadata": {},
   "outputs": [
    {
     "name": "stdout",
     "output_type": "stream",
     "text": [
      "Chargement du modèle existant : best.keras\n"
     ]
    },
    {
     "name": "stderr",
     "output_type": "stream",
     "text": [
      "  0%|          | 0/1600 [00:00<?, ?it/s]"
     ]
    },
    {
     "name": "stdout",
     "output_type": "stream",
     "text": [
      "✅ Nouveau meilleur modèle (score = 18, episode = 0)\n"
     ]
    },
    {
     "name": "stderr",
     "output_type": "stream",
     "text": [
      "  0%|          | 2/1600 [00:00<01:57, 13.63it/s]"
     ]
    },
    {
     "name": "stdout",
     "output_type": "stream",
     "text": [
      "✅ Nouveau meilleur modèle (score = 21, episode = 2)\n"
     ]
    },
    {
     "name": "stderr",
     "output_type": "stream",
     "text": [
      "  0%|          | 4/1600 [00:00<02:29, 10.65it/s]"
     ]
    },
    {
     "name": "stdout",
     "output_type": "stream",
     "text": [
      "✅ Nouveau meilleur modèle (score = 23, episode = 3)\n"
     ]
    },
    {
     "name": "stderr",
     "output_type": "stream",
     "text": [
      "  0%|          | 8/1600 [00:00<02:17, 11.62it/s]"
     ]
    },
    {
     "name": "stdout",
     "output_type": "stream",
     "text": [
      "✅ Nouveau meilleur modèle (score = 25, episode = 6)\n"
     ]
    },
    {
     "name": "stderr",
     "output_type": "stream",
     "text": [
      "  3%|▎         | 52/1600 [00:08<09:00,  2.86it/s]"
     ]
    },
    {
     "name": "stdout",
     "output_type": "stream",
     "text": [
      "Episode 50/1600 - Moyenne score (50 derniers) : 17.76 - Epsilon : 0.9643\n"
     ]
    },
    {
     "name": "stderr",
     "output_type": "stream",
     "text": [
      "  4%|▍         | 60/1600 [00:10<04:51,  5.27it/s]"
     ]
    },
    {
     "name": "stdout",
     "output_type": "stream",
     "text": [
      "✅ Nouveau meilleur modèle (score = 26, episode = 58)\n"
     ]
    },
    {
     "name": "stderr",
     "output_type": "stream",
     "text": [
      "  6%|▋         | 104/1600 [00:20<04:50,  5.14it/s]"
     ]
    },
    {
     "name": "stdout",
     "output_type": "stream",
     "text": [
      "Episode 100/1600 - Moyenne score (50 derniers) : 17.60 - Epsilon : 0.9286\n"
     ]
    },
    {
     "name": "stderr",
     "output_type": "stream",
     "text": [
      "  7%|▋         | 114/1600 [00:20<02:24, 10.31it/s]"
     ]
    },
    {
     "name": "stdout",
     "output_type": "stream",
     "text": [
      "✅ Nouveau meilleur modèle (score = 35, episode = 112)\n"
     ]
    },
    {
     "name": "stderr",
     "output_type": "stream",
     "text": [
      "  9%|▉         | 150/1600 [00:28<10:24,  2.32it/s]"
     ]
    },
    {
     "name": "stdout",
     "output_type": "stream",
     "text": [
      "Episode 150/1600 - Moyenne score (50 derniers) : 18.02 - Epsilon : 0.8929\n"
     ]
    },
    {
     "name": "stderr",
     "output_type": "stream",
     "text": [
      " 13%|█▎        | 201/1600 [00:50<05:13,  4.46it/s]"
     ]
    },
    {
     "name": "stdout",
     "output_type": "stream",
     "text": [
      "Episode 200/1600 - Moyenne score (50 derniers) : 18.24 - Epsilon : 0.8571\n"
     ]
    },
    {
     "name": "stderr",
     "output_type": "stream",
     "text": [
      " 16%|█▌        | 250/1600 [01:18<21:58,  1.02it/s]"
     ]
    },
    {
     "name": "stdout",
     "output_type": "stream",
     "text": [
      "Episode 250/1600 - Moyenne score (50 derniers) : 19.24 - Epsilon : 0.8214\n"
     ]
    },
    {
     "name": "stderr",
     "output_type": "stream",
     "text": [
      " 17%|█▋        | 276/1600 [01:43<18:07,  1.22it/s]"
     ]
    },
    {
     "name": "stdout",
     "output_type": "stream",
     "text": [
      "✅ Nouveau meilleur modèle (score = 39, episode = 275)\n"
     ]
    },
    {
     "name": "stderr",
     "output_type": "stream",
     "text": [
      " 19%|█▉        | 300/1600 [02:10<21:58,  1.01s/it]"
     ]
    },
    {
     "name": "stdout",
     "output_type": "stream",
     "text": [
      "Episode 300/1600 - Moyenne score (50 derniers) : 18.26 - Epsilon : 0.7857\n"
     ]
    },
    {
     "name": "stderr",
     "output_type": "stream",
     "text": [
      " 22%|██▏       | 350/1600 [03:10<35:45,  1.72s/it]"
     ]
    },
    {
     "name": "stdout",
     "output_type": "stream",
     "text": [
      "Episode 350/1600 - Moyenne score (50 derniers) : 16.76 - Epsilon : 0.7500\n"
     ]
    },
    {
     "name": "stderr",
     "output_type": "stream",
     "text": [
      " 25%|██▌       | 400/1600 [04:18<26:18,  1.32s/it]"
     ]
    },
    {
     "name": "stdout",
     "output_type": "stream",
     "text": [
      "Episode 400/1600 - Moyenne score (50 derniers) : 17.96 - Epsilon : 0.7143\n"
     ]
    },
    {
     "name": "stderr",
     "output_type": "stream",
     "text": [
      " 28%|██▊       | 450/1600 [05:58<33:54,  1.77s/it]  "
     ]
    },
    {
     "name": "stdout",
     "output_type": "stream",
     "text": [
      "Episode 450/1600 - Moyenne score (50 derniers) : 17.90 - Epsilon : 0.6786\n"
     ]
    },
    {
     "name": "stderr",
     "output_type": "stream",
     "text": [
      " 31%|███       | 499/1600 [07:49<43:27,  2.37s/it]  "
     ]
    },
    {
     "name": "stdout",
     "output_type": "stream",
     "text": [
      "Episode 500/1600 - Moyenne score (50 derniers) : 17.76 - Epsilon : 0.6429\n"
     ]
    },
    {
     "name": "stderr",
     "output_type": "stream",
     "text": [
      " 34%|███▍      | 550/1600 [10:10<35:39,  2.04s/it]  "
     ]
    },
    {
     "name": "stdout",
     "output_type": "stream",
     "text": [
      "Episode 550/1600 - Moyenne score (50 derniers) : 17.58 - Epsilon : 0.6071\n"
     ]
    },
    {
     "name": "stderr",
     "output_type": "stream",
     "text": [
      " 38%|███▊      | 600/1600 [12:54<57:55,  3.48s/it]  "
     ]
    },
    {
     "name": "stdout",
     "output_type": "stream",
     "text": [
      "Episode 600/1600 - Moyenne score (50 derniers) : 17.38 - Epsilon : 0.5714\n"
     ]
    },
    {
     "name": "stderr",
     "output_type": "stream",
     "text": [
      " 41%|████      | 650/1600 [16:11<45:13,  2.86s/it]  "
     ]
    },
    {
     "name": "stdout",
     "output_type": "stream",
     "text": [
      "Episode 650/1600 - Moyenne score (50 derniers) : 17.96 - Epsilon : 0.5357\n"
     ]
    },
    {
     "name": "stderr",
     "output_type": "stream",
     "text": [
      " 44%|████▍     | 700/1600 [19:52<1:34:51,  6.32s/it]"
     ]
    },
    {
     "name": "stdout",
     "output_type": "stream",
     "text": [
      "Episode 700/1600 - Moyenne score (50 derniers) : 17.14 - Epsilon : 0.5000\n"
     ]
    },
    {
     "name": "stderr",
     "output_type": "stream",
     "text": [
      " 47%|████▋     | 750/1600 [24:09<1:10:25,  4.97s/it]"
     ]
    },
    {
     "name": "stdout",
     "output_type": "stream",
     "text": [
      "Episode 750/1600 - Moyenne score (50 derniers) : 16.76 - Epsilon : 0.4643\n"
     ]
    },
    {
     "name": "stderr",
     "output_type": "stream",
     "text": [
      " 50%|█████     | 800/1600 [29:11<1:23:00,  6.23s/it]"
     ]
    },
    {
     "name": "stdout",
     "output_type": "stream",
     "text": [
      "Episode 800/1600 - Moyenne score (50 derniers) : 17.96 - Epsilon : 0.4286\n"
     ]
    },
    {
     "name": "stderr",
     "output_type": "stream",
     "text": [
      " 53%|█████▎    | 850/1600 [35:21<1:09:25,  5.55s/it]"
     ]
    },
    {
     "name": "stdout",
     "output_type": "stream",
     "text": [
      "Episode 850/1600 - Moyenne score (50 derniers) : 18.08 - Epsilon : 0.3929\n"
     ]
    },
    {
     "name": "stderr",
     "output_type": "stream",
     "text": [
      " 56%|█████▋    | 900/1600 [42:36<2:29:06, 12.78s/it]"
     ]
    },
    {
     "name": "stdout",
     "output_type": "stream",
     "text": [
      "Episode 900/1600 - Moyenne score (50 derniers) : 18.70 - Epsilon : 0.3571\n"
     ]
    },
    {
     "name": "stderr",
     "output_type": "stream",
     "text": [
      " 59%|█████▉    | 950/1600 [49:39<1:09:33,  6.42s/it]"
     ]
    },
    {
     "name": "stdout",
     "output_type": "stream",
     "text": [
      "Episode 950/1600 - Moyenne score (50 derniers) : 17.70 - Epsilon : 0.3214\n"
     ]
    },
    {
     "name": "stderr",
     "output_type": "stream",
     "text": [
      " 62%|██████▎   | 1000/1600 [57:18<1:52:07, 11.21s/it]"
     ]
    },
    {
     "name": "stdout",
     "output_type": "stream",
     "text": [
      "Episode 1000/1600 - Moyenne score (50 derniers) : 17.32 - Epsilon : 0.2857\n"
     ]
    },
    {
     "name": "stderr",
     "output_type": "stream",
     "text": [
      " 62%|██████▎   | 1000/1600 [57:20<34:24,  3.44s/it]  \n"
     ]
    },
    {
     "ename": "InvalidArgumentError",
     "evalue": "Graph execution error:\n\nDetected at node sequential_1/dense_1/Relu defined at (most recent call last):\n  File \"<frozen runpy>\", line 198, in _run_module_as_main\n\n  File \"<frozen runpy>\", line 88, in _run_code\n\n  File \"C:\\Users\\anyone\\AppData\\Local\\Packages\\PythonSoftwareFoundation.Python.3.11_qbz5n2kfra8p0\\LocalCache\\local-packages\\Python311\\site-packages\\ipykernel_launcher.py\", line 18, in <module>\n\n  File \"C:\\Users\\anyone\\AppData\\Local\\Packages\\PythonSoftwareFoundation.Python.3.11_qbz5n2kfra8p0\\LocalCache\\local-packages\\Python311\\site-packages\\traitlets\\config\\application.py\", line 1075, in launch_instance\n\n  File \"C:\\Users\\anyone\\AppData\\Local\\Packages\\PythonSoftwareFoundation.Python.3.11_qbz5n2kfra8p0\\LocalCache\\local-packages\\Python311\\site-packages\\ipykernel\\kernelapp.py\", line 739, in start\n\n  File \"C:\\Users\\anyone\\AppData\\Local\\Packages\\PythonSoftwareFoundation.Python.3.11_qbz5n2kfra8p0\\LocalCache\\local-packages\\Python311\\site-packages\\tornado\\platform\\asyncio.py\", line 205, in start\n\n  File \"C:\\Program Files\\WindowsApps\\PythonSoftwareFoundation.Python.3.11_3.11.2544.0_x64__qbz5n2kfra8p0\\Lib\\asyncio\\base_events.py\", line 608, in run_forever\n\n  File \"C:\\Program Files\\WindowsApps\\PythonSoftwareFoundation.Python.3.11_3.11.2544.0_x64__qbz5n2kfra8p0\\Lib\\asyncio\\base_events.py\", line 1936, in _run_once\n\n  File \"C:\\Program Files\\WindowsApps\\PythonSoftwareFoundation.Python.3.11_3.11.2544.0_x64__qbz5n2kfra8p0\\Lib\\asyncio\\events.py\", line 84, in _run\n\n  File \"C:\\Users\\anyone\\AppData\\Local\\Packages\\PythonSoftwareFoundation.Python.3.11_qbz5n2kfra8p0\\LocalCache\\local-packages\\Python311\\site-packages\\ipykernel\\kernelbase.py\", line 545, in dispatch_queue\n\n  File \"C:\\Users\\anyone\\AppData\\Local\\Packages\\PythonSoftwareFoundation.Python.3.11_qbz5n2kfra8p0\\LocalCache\\local-packages\\Python311\\site-packages\\ipykernel\\kernelbase.py\", line 534, in process_one\n\n  File \"C:\\Users\\anyone\\AppData\\Local\\Packages\\PythonSoftwareFoundation.Python.3.11_qbz5n2kfra8p0\\LocalCache\\local-packages\\Python311\\site-packages\\ipykernel\\kernelbase.py\", line 437, in dispatch_shell\n\n  File \"C:\\Users\\anyone\\AppData\\Local\\Packages\\PythonSoftwareFoundation.Python.3.11_qbz5n2kfra8p0\\LocalCache\\local-packages\\Python311\\site-packages\\ipykernel\\ipkernel.py\", line 362, in execute_request\n\n  File \"C:\\Users\\anyone\\AppData\\Local\\Packages\\PythonSoftwareFoundation.Python.3.11_qbz5n2kfra8p0\\LocalCache\\local-packages\\Python311\\site-packages\\ipykernel\\kernelbase.py\", line 778, in execute_request\n\n  File \"C:\\Users\\anyone\\AppData\\Local\\Packages\\PythonSoftwareFoundation.Python.3.11_qbz5n2kfra8p0\\LocalCache\\local-packages\\Python311\\site-packages\\ipykernel\\ipkernel.py\", line 449, in do_execute\n\n  File \"C:\\Users\\anyone\\AppData\\Local\\Packages\\PythonSoftwareFoundation.Python.3.11_qbz5n2kfra8p0\\LocalCache\\local-packages\\Python311\\site-packages\\ipykernel\\zmqshell.py\", line 549, in run_cell\n\n  File \"C:\\Users\\anyone\\AppData\\Local\\Packages\\PythonSoftwareFoundation.Python.3.11_qbz5n2kfra8p0\\LocalCache\\local-packages\\Python311\\site-packages\\IPython\\core\\interactiveshell.py\", line 3077, in run_cell\n\n  File \"C:\\Users\\anyone\\AppData\\Local\\Packages\\PythonSoftwareFoundation.Python.3.11_qbz5n2kfra8p0\\LocalCache\\local-packages\\Python311\\site-packages\\IPython\\core\\interactiveshell.py\", line 3132, in _run_cell\n\n  File \"C:\\Users\\anyone\\AppData\\Local\\Packages\\PythonSoftwareFoundation.Python.3.11_qbz5n2kfra8p0\\LocalCache\\local-packages\\Python311\\site-packages\\IPython\\core\\async_helpers.py\", line 128, in _pseudo_sync_runner\n\n  File \"C:\\Users\\anyone\\AppData\\Local\\Packages\\PythonSoftwareFoundation.Python.3.11_qbz5n2kfra8p0\\LocalCache\\local-packages\\Python311\\site-packages\\IPython\\core\\interactiveshell.py\", line 3336, in run_cell_async\n\n  File \"C:\\Users\\anyone\\AppData\\Local\\Packages\\PythonSoftwareFoundation.Python.3.11_qbz5n2kfra8p0\\LocalCache\\local-packages\\Python311\\site-packages\\IPython\\core\\interactiveshell.py\", line 3519, in run_ast_nodes\n\n  File \"C:\\Users\\anyone\\AppData\\Local\\Packages\\PythonSoftwareFoundation.Python.3.11_qbz5n2kfra8p0\\LocalCache\\local-packages\\Python311\\site-packages\\IPython\\core\\interactiveshell.py\", line 3579, in run_code\n\n  File \"C:\\Users\\anyone\\AppData\\Local\\Temp\\ipykernel_42828\\2538337231.py\", line 64, in <module>\n\n  File \"C:\\Users\\anyone\\AppData\\Local\\Temp\\ipykernel_42828\\3285185411.py\", line 113, in train\n\n  File \"C:\\Users\\anyone\\AppData\\Local\\Packages\\PythonSoftwareFoundation.Python.3.11_qbz5n2kfra8p0\\LocalCache\\local-packages\\Python311\\site-packages\\keras\\src\\utils\\traceback_utils.py\", line 117, in error_handler\n\n  File \"C:\\Users\\anyone\\AppData\\Local\\Packages\\PythonSoftwareFoundation.Python.3.11_qbz5n2kfra8p0\\LocalCache\\local-packages\\Python311\\site-packages\\keras\\src\\backend\\tensorflow\\trainer.py\", line 559, in predict\n\n  File \"C:\\Users\\anyone\\AppData\\Local\\Packages\\PythonSoftwareFoundation.Python.3.11_qbz5n2kfra8p0\\LocalCache\\local-packages\\Python311\\site-packages\\keras\\src\\backend\\tensorflow\\trainer.py\", line 256, in one_step_on_data_distributed\n\n  File \"C:\\Users\\anyone\\AppData\\Local\\Packages\\PythonSoftwareFoundation.Python.3.11_qbz5n2kfra8p0\\LocalCache\\local-packages\\Python311\\site-packages\\keras\\src\\backend\\tensorflow\\trainer.py\", line 246, in one_step_on_data\n\n  File \"C:\\Users\\anyone\\AppData\\Local\\Packages\\PythonSoftwareFoundation.Python.3.11_qbz5n2kfra8p0\\LocalCache\\local-packages\\Python311\\site-packages\\keras\\src\\backend\\tensorflow\\trainer.py\", line 101, in predict_step\n\n  File \"C:\\Users\\anyone\\AppData\\Local\\Packages\\PythonSoftwareFoundation.Python.3.11_qbz5n2kfra8p0\\LocalCache\\local-packages\\Python311\\site-packages\\keras\\src\\utils\\traceback_utils.py\", line 117, in error_handler\n\n  File \"C:\\Users\\anyone\\AppData\\Local\\Packages\\PythonSoftwareFoundation.Python.3.11_qbz5n2kfra8p0\\LocalCache\\local-packages\\Python311\\site-packages\\keras\\src\\layers\\layer.py\", line 899, in __call__\n\n  File \"C:\\Users\\anyone\\AppData\\Local\\Packages\\PythonSoftwareFoundation.Python.3.11_qbz5n2kfra8p0\\LocalCache\\local-packages\\Python311\\site-packages\\keras\\src\\utils\\traceback_utils.py\", line 117, in error_handler\n\n  File \"C:\\Users\\anyone\\AppData\\Local\\Packages\\PythonSoftwareFoundation.Python.3.11_qbz5n2kfra8p0\\LocalCache\\local-packages\\Python311\\site-packages\\keras\\src\\ops\\operation.py\", line 46, in __call__\n\n  File \"C:\\Users\\anyone\\AppData\\Local\\Packages\\PythonSoftwareFoundation.Python.3.11_qbz5n2kfra8p0\\LocalCache\\local-packages\\Python311\\site-packages\\keras\\src\\utils\\traceback_utils.py\", line 156, in error_handler\n\n  File \"C:\\Users\\anyone\\AppData\\Local\\Packages\\PythonSoftwareFoundation.Python.3.11_qbz5n2kfra8p0\\LocalCache\\local-packages\\Python311\\site-packages\\keras\\src\\models\\sequential.py\", line 213, in call\n\n  File \"C:\\Users\\anyone\\AppData\\Local\\Packages\\PythonSoftwareFoundation.Python.3.11_qbz5n2kfra8p0\\LocalCache\\local-packages\\Python311\\site-packages\\keras\\src\\models\\functional.py\", line 182, in call\n\n  File \"C:\\Users\\anyone\\AppData\\Local\\Packages\\PythonSoftwareFoundation.Python.3.11_qbz5n2kfra8p0\\LocalCache\\local-packages\\Python311\\site-packages\\keras\\src\\ops\\function.py\", line 171, in _run_through_graph\n\n  File \"C:\\Users\\anyone\\AppData\\Local\\Packages\\PythonSoftwareFoundation.Python.3.11_qbz5n2kfra8p0\\LocalCache\\local-packages\\Python311\\site-packages\\keras\\src\\models\\functional.py\", line 632, in call\n\n  File \"C:\\Users\\anyone\\AppData\\Local\\Packages\\PythonSoftwareFoundation.Python.3.11_qbz5n2kfra8p0\\LocalCache\\local-packages\\Python311\\site-packages\\keras\\src\\utils\\traceback_utils.py\", line 117, in error_handler\n\n  File \"C:\\Users\\anyone\\AppData\\Local\\Packages\\PythonSoftwareFoundation.Python.3.11_qbz5n2kfra8p0\\LocalCache\\local-packages\\Python311\\site-packages\\keras\\src\\layers\\layer.py\", line 899, in __call__\n\n  File \"C:\\Users\\anyone\\AppData\\Local\\Packages\\PythonSoftwareFoundation.Python.3.11_qbz5n2kfra8p0\\LocalCache\\local-packages\\Python311\\site-packages\\keras\\src\\utils\\traceback_utils.py\", line 117, in error_handler\n\n  File \"C:\\Users\\anyone\\AppData\\Local\\Packages\\PythonSoftwareFoundation.Python.3.11_qbz5n2kfra8p0\\LocalCache\\local-packages\\Python311\\site-packages\\keras\\src\\ops\\operation.py\", line 46, in __call__\n\n  File \"C:\\Users\\anyone\\AppData\\Local\\Packages\\PythonSoftwareFoundation.Python.3.11_qbz5n2kfra8p0\\LocalCache\\local-packages\\Python311\\site-packages\\keras\\src\\utils\\traceback_utils.py\", line 156, in error_handler\n\n  File \"C:\\Users\\anyone\\AppData\\Local\\Packages\\PythonSoftwareFoundation.Python.3.11_qbz5n2kfra8p0\\LocalCache\\local-packages\\Python311\\site-packages\\keras\\src\\layers\\core\\dense.py\", line 148, in call\n\n  File \"C:\\Users\\anyone\\AppData\\Local\\Packages\\PythonSoftwareFoundation.Python.3.11_qbz5n2kfra8p0\\LocalCache\\local-packages\\Python311\\site-packages\\keras\\src\\activations\\activations.py\", line 47, in relu\n\n  File \"C:\\Users\\anyone\\AppData\\Local\\Packages\\PythonSoftwareFoundation.Python.3.11_qbz5n2kfra8p0\\LocalCache\\local-packages\\Python311\\site-packages\\keras\\src\\activations\\activations.py\", line 101, in static_call\n\n  File \"C:\\Users\\anyone\\AppData\\Local\\Packages\\PythonSoftwareFoundation.Python.3.11_qbz5n2kfra8p0\\LocalCache\\local-packages\\Python311\\site-packages\\keras\\src\\backend\\tensorflow\\nn.py\", line 15, in relu\n\nMatrix size-incompatible: In[0]: [32,2], In[1]: [4,32]\n\t [[{{node sequential_1/dense_1/Relu}}]] [Op:__inference_one_step_on_data_distributed_4412142]",
     "output_type": "error",
     "traceback": [
      "\u001b[1;31m---------------------------------------------------------------------------\u001b[0m",
      "\u001b[1;31mInvalidArgumentError\u001b[0m                      Traceback (most recent call last)",
      "Cell \u001b[1;32mIn[16], line 64\u001b[0m\n\u001b[0;32m     62\u001b[0m     \u001b[38;5;66;03m# Entraînement en ligne (optionnel : pour apprendre directement après chaque step)\u001b[39;00m\n\u001b[0;32m     63\u001b[0m     \u001b[38;5;28;01mif\u001b[39;00m episode \u001b[38;5;241m>\u001b[39m\u001b[38;5;241m=\u001b[39m agent\u001b[38;5;241m.\u001b[39mreplay_start_size:\n\u001b[1;32m---> 64\u001b[0m         \u001b[43magent\u001b[49m\u001b[38;5;241;43m.\u001b[39;49m\u001b[43mtrain\u001b[49m\u001b[43m(\u001b[49m\u001b[43mbatch_size\u001b[49m\u001b[38;5;241;43m=\u001b[39;49m\u001b[43mbatch_size\u001b[49m\u001b[43m,\u001b[49m\u001b[43m \u001b[49m\u001b[43mepochs\u001b[49m\u001b[38;5;241;43m=\u001b[39;49m\u001b[43mepochs\u001b[49m\u001b[43m)\u001b[49m\n\u001b[0;32m     66\u001b[0m scores\u001b[38;5;241m.\u001b[39mappend(env\u001b[38;5;241m.\u001b[39mreward)\n\u001b[0;32m     68\u001b[0m \u001b[38;5;66;03m# Mise à jour d'epsilon à la fin de chaque épisode\u001b[39;00m\n",
      "Cell \u001b[1;32mIn[14], line 113\u001b[0m, in \u001b[0;36mDQNAgent.train\u001b[1;34m(self, batch_size, epochs)\u001b[0m\n\u001b[0;32m    111\u001b[0m \u001b[38;5;66;03m# Prédire les scores pour les prochains états en batch\u001b[39;00m\n\u001b[0;32m    112\u001b[0m next_states \u001b[38;5;241m=\u001b[39m np\u001b[38;5;241m.\u001b[39marray([x[\u001b[38;5;241m1\u001b[39m] \u001b[38;5;28;01mfor\u001b[39;00m x \u001b[38;5;129;01min\u001b[39;00m batch])\n\u001b[1;32m--> 113\u001b[0m next_qs \u001b[38;5;241m=\u001b[39m [x[\u001b[38;5;241m0\u001b[39m] \u001b[38;5;28;01mfor\u001b[39;00m x \u001b[38;5;129;01min\u001b[39;00m \u001b[38;5;28;43mself\u001b[39;49m\u001b[38;5;241;43m.\u001b[39;49m\u001b[43mmodel\u001b[49m\u001b[38;5;241;43m.\u001b[39;49m\u001b[43mpredict\u001b[49m\u001b[43m(\u001b[49m\u001b[43mnext_states\u001b[49m\u001b[43m)\u001b[49m]\n\u001b[0;32m    114\u001b[0m x \u001b[38;5;241m=\u001b[39m []\n\u001b[0;32m    115\u001b[0m y \u001b[38;5;241m=\u001b[39m []\n",
      "File \u001b[1;32m~\\AppData\\Local\\Packages\\PythonSoftwareFoundation.Python.3.11_qbz5n2kfra8p0\\LocalCache\\local-packages\\Python311\\site-packages\\keras\\src\\utils\\traceback_utils.py:122\u001b[0m, in \u001b[0;36mfilter_traceback.<locals>.error_handler\u001b[1;34m(*args, **kwargs)\u001b[0m\n\u001b[0;32m    119\u001b[0m     filtered_tb \u001b[38;5;241m=\u001b[39m _process_traceback_frames(e\u001b[38;5;241m.\u001b[39m__traceback__)\n\u001b[0;32m    120\u001b[0m     \u001b[38;5;66;03m# To get the full stack trace, call:\u001b[39;00m\n\u001b[0;32m    121\u001b[0m     \u001b[38;5;66;03m# `keras.config.disable_traceback_filtering()`\u001b[39;00m\n\u001b[1;32m--> 122\u001b[0m     \u001b[38;5;28;01mraise\u001b[39;00m e\u001b[38;5;241m.\u001b[39mwith_traceback(filtered_tb) \u001b[38;5;28;01mfrom\u001b[39;00m \u001b[38;5;28;01mNone\u001b[39;00m\n\u001b[0;32m    123\u001b[0m \u001b[38;5;28;01mfinally\u001b[39;00m:\n\u001b[0;32m    124\u001b[0m     \u001b[38;5;28;01mdel\u001b[39;00m filtered_tb\n",
      "File \u001b[1;32m~\\AppData\\Local\\Packages\\PythonSoftwareFoundation.Python.3.11_qbz5n2kfra8p0\\LocalCache\\local-packages\\Python311\\site-packages\\tensorflow\\python\\eager\\execute.py:53\u001b[0m, in \u001b[0;36mquick_execute\u001b[1;34m(op_name, num_outputs, inputs, attrs, ctx, name)\u001b[0m\n\u001b[0;32m     51\u001b[0m \u001b[38;5;28;01mtry\u001b[39;00m:\n\u001b[0;32m     52\u001b[0m   ctx\u001b[38;5;241m.\u001b[39mensure_initialized()\n\u001b[1;32m---> 53\u001b[0m   tensors \u001b[38;5;241m=\u001b[39m pywrap_tfe\u001b[38;5;241m.\u001b[39mTFE_Py_Execute(ctx\u001b[38;5;241m.\u001b[39m_handle, device_name, op_name,\n\u001b[0;32m     54\u001b[0m                                       inputs, attrs, num_outputs)\n\u001b[0;32m     55\u001b[0m \u001b[38;5;28;01mexcept\u001b[39;00m core\u001b[38;5;241m.\u001b[39m_NotOkStatusException \u001b[38;5;28;01mas\u001b[39;00m e:\n\u001b[0;32m     56\u001b[0m   \u001b[38;5;28;01mif\u001b[39;00m name \u001b[38;5;129;01mis\u001b[39;00m \u001b[38;5;129;01mnot\u001b[39;00m \u001b[38;5;28;01mNone\u001b[39;00m:\n",
      "\u001b[1;31mInvalidArgumentError\u001b[0m: Graph execution error:\n\nDetected at node sequential_1/dense_1/Relu defined at (most recent call last):\n  File \"<frozen runpy>\", line 198, in _run_module_as_main\n\n  File \"<frozen runpy>\", line 88, in _run_code\n\n  File \"C:\\Users\\anyone\\AppData\\Local\\Packages\\PythonSoftwareFoundation.Python.3.11_qbz5n2kfra8p0\\LocalCache\\local-packages\\Python311\\site-packages\\ipykernel_launcher.py\", line 18, in <module>\n\n  File \"C:\\Users\\anyone\\AppData\\Local\\Packages\\PythonSoftwareFoundation.Python.3.11_qbz5n2kfra8p0\\LocalCache\\local-packages\\Python311\\site-packages\\traitlets\\config\\application.py\", line 1075, in launch_instance\n\n  File \"C:\\Users\\anyone\\AppData\\Local\\Packages\\PythonSoftwareFoundation.Python.3.11_qbz5n2kfra8p0\\LocalCache\\local-packages\\Python311\\site-packages\\ipykernel\\kernelapp.py\", line 739, in start\n\n  File \"C:\\Users\\anyone\\AppData\\Local\\Packages\\PythonSoftwareFoundation.Python.3.11_qbz5n2kfra8p0\\LocalCache\\local-packages\\Python311\\site-packages\\tornado\\platform\\asyncio.py\", line 205, in start\n\n  File \"C:\\Program Files\\WindowsApps\\PythonSoftwareFoundation.Python.3.11_3.11.2544.0_x64__qbz5n2kfra8p0\\Lib\\asyncio\\base_events.py\", line 608, in run_forever\n\n  File \"C:\\Program Files\\WindowsApps\\PythonSoftwareFoundation.Python.3.11_3.11.2544.0_x64__qbz5n2kfra8p0\\Lib\\asyncio\\base_events.py\", line 1936, in _run_once\n\n  File \"C:\\Program Files\\WindowsApps\\PythonSoftwareFoundation.Python.3.11_3.11.2544.0_x64__qbz5n2kfra8p0\\Lib\\asyncio\\events.py\", line 84, in _run\n\n  File \"C:\\Users\\anyone\\AppData\\Local\\Packages\\PythonSoftwareFoundation.Python.3.11_qbz5n2kfra8p0\\LocalCache\\local-packages\\Python311\\site-packages\\ipykernel\\kernelbase.py\", line 545, in dispatch_queue\n\n  File \"C:\\Users\\anyone\\AppData\\Local\\Packages\\PythonSoftwareFoundation.Python.3.11_qbz5n2kfra8p0\\LocalCache\\local-packages\\Python311\\site-packages\\ipykernel\\kernelbase.py\", line 534, in process_one\n\n  File \"C:\\Users\\anyone\\AppData\\Local\\Packages\\PythonSoftwareFoundation.Python.3.11_qbz5n2kfra8p0\\LocalCache\\local-packages\\Python311\\site-packages\\ipykernel\\kernelbase.py\", line 437, in dispatch_shell\n\n  File \"C:\\Users\\anyone\\AppData\\Local\\Packages\\PythonSoftwareFoundation.Python.3.11_qbz5n2kfra8p0\\LocalCache\\local-packages\\Python311\\site-packages\\ipykernel\\ipkernel.py\", line 362, in execute_request\n\n  File \"C:\\Users\\anyone\\AppData\\Local\\Packages\\PythonSoftwareFoundation.Python.3.11_qbz5n2kfra8p0\\LocalCache\\local-packages\\Python311\\site-packages\\ipykernel\\kernelbase.py\", line 778, in execute_request\n\n  File \"C:\\Users\\anyone\\AppData\\Local\\Packages\\PythonSoftwareFoundation.Python.3.11_qbz5n2kfra8p0\\LocalCache\\local-packages\\Python311\\site-packages\\ipykernel\\ipkernel.py\", line 449, in do_execute\n\n  File \"C:\\Users\\anyone\\AppData\\Local\\Packages\\PythonSoftwareFoundation.Python.3.11_qbz5n2kfra8p0\\LocalCache\\local-packages\\Python311\\site-packages\\ipykernel\\zmqshell.py\", line 549, in run_cell\n\n  File \"C:\\Users\\anyone\\AppData\\Local\\Packages\\PythonSoftwareFoundation.Python.3.11_qbz5n2kfra8p0\\LocalCache\\local-packages\\Python311\\site-packages\\IPython\\core\\interactiveshell.py\", line 3077, in run_cell\n\n  File \"C:\\Users\\anyone\\AppData\\Local\\Packages\\PythonSoftwareFoundation.Python.3.11_qbz5n2kfra8p0\\LocalCache\\local-packages\\Python311\\site-packages\\IPython\\core\\interactiveshell.py\", line 3132, in _run_cell\n\n  File \"C:\\Users\\anyone\\AppData\\Local\\Packages\\PythonSoftwareFoundation.Python.3.11_qbz5n2kfra8p0\\LocalCache\\local-packages\\Python311\\site-packages\\IPython\\core\\async_helpers.py\", line 128, in _pseudo_sync_runner\n\n  File \"C:\\Users\\anyone\\AppData\\Local\\Packages\\PythonSoftwareFoundation.Python.3.11_qbz5n2kfra8p0\\LocalCache\\local-packages\\Python311\\site-packages\\IPython\\core\\interactiveshell.py\", line 3336, in run_cell_async\n\n  File \"C:\\Users\\anyone\\AppData\\Local\\Packages\\PythonSoftwareFoundation.Python.3.11_qbz5n2kfra8p0\\LocalCache\\local-packages\\Python311\\site-packages\\IPython\\core\\interactiveshell.py\", line 3519, in run_ast_nodes\n\n  File \"C:\\Users\\anyone\\AppData\\Local\\Packages\\PythonSoftwareFoundation.Python.3.11_qbz5n2kfra8p0\\LocalCache\\local-packages\\Python311\\site-packages\\IPython\\core\\interactiveshell.py\", line 3579, in run_code\n\n  File \"C:\\Users\\anyone\\AppData\\Local\\Temp\\ipykernel_42828\\2538337231.py\", line 64, in <module>\n\n  File \"C:\\Users\\anyone\\AppData\\Local\\Temp\\ipykernel_42828\\3285185411.py\", line 113, in train\n\n  File \"C:\\Users\\anyone\\AppData\\Local\\Packages\\PythonSoftwareFoundation.Python.3.11_qbz5n2kfra8p0\\LocalCache\\local-packages\\Python311\\site-packages\\keras\\src\\utils\\traceback_utils.py\", line 117, in error_handler\n\n  File \"C:\\Users\\anyone\\AppData\\Local\\Packages\\PythonSoftwareFoundation.Python.3.11_qbz5n2kfra8p0\\LocalCache\\local-packages\\Python311\\site-packages\\keras\\src\\backend\\tensorflow\\trainer.py\", line 559, in predict\n\n  File \"C:\\Users\\anyone\\AppData\\Local\\Packages\\PythonSoftwareFoundation.Python.3.11_qbz5n2kfra8p0\\LocalCache\\local-packages\\Python311\\site-packages\\keras\\src\\backend\\tensorflow\\trainer.py\", line 256, in one_step_on_data_distributed\n\n  File \"C:\\Users\\anyone\\AppData\\Local\\Packages\\PythonSoftwareFoundation.Python.3.11_qbz5n2kfra8p0\\LocalCache\\local-packages\\Python311\\site-packages\\keras\\src\\backend\\tensorflow\\trainer.py\", line 246, in one_step_on_data\n\n  File \"C:\\Users\\anyone\\AppData\\Local\\Packages\\PythonSoftwareFoundation.Python.3.11_qbz5n2kfra8p0\\LocalCache\\local-packages\\Python311\\site-packages\\keras\\src\\backend\\tensorflow\\trainer.py\", line 101, in predict_step\n\n  File \"C:\\Users\\anyone\\AppData\\Local\\Packages\\PythonSoftwareFoundation.Python.3.11_qbz5n2kfra8p0\\LocalCache\\local-packages\\Python311\\site-packages\\keras\\src\\utils\\traceback_utils.py\", line 117, in error_handler\n\n  File \"C:\\Users\\anyone\\AppData\\Local\\Packages\\PythonSoftwareFoundation.Python.3.11_qbz5n2kfra8p0\\LocalCache\\local-packages\\Python311\\site-packages\\keras\\src\\layers\\layer.py\", line 899, in __call__\n\n  File \"C:\\Users\\anyone\\AppData\\Local\\Packages\\PythonSoftwareFoundation.Python.3.11_qbz5n2kfra8p0\\LocalCache\\local-packages\\Python311\\site-packages\\keras\\src\\utils\\traceback_utils.py\", line 117, in error_handler\n\n  File \"C:\\Users\\anyone\\AppData\\Local\\Packages\\PythonSoftwareFoundation.Python.3.11_qbz5n2kfra8p0\\LocalCache\\local-packages\\Python311\\site-packages\\keras\\src\\ops\\operation.py\", line 46, in __call__\n\n  File \"C:\\Users\\anyone\\AppData\\Local\\Packages\\PythonSoftwareFoundation.Python.3.11_qbz5n2kfra8p0\\LocalCache\\local-packages\\Python311\\site-packages\\keras\\src\\utils\\traceback_utils.py\", line 156, in error_handler\n\n  File \"C:\\Users\\anyone\\AppData\\Local\\Packages\\PythonSoftwareFoundation.Python.3.11_qbz5n2kfra8p0\\LocalCache\\local-packages\\Python311\\site-packages\\keras\\src\\models\\sequential.py\", line 213, in call\n\n  File \"C:\\Users\\anyone\\AppData\\Local\\Packages\\PythonSoftwareFoundation.Python.3.11_qbz5n2kfra8p0\\LocalCache\\local-packages\\Python311\\site-packages\\keras\\src\\models\\functional.py\", line 182, in call\n\n  File \"C:\\Users\\anyone\\AppData\\Local\\Packages\\PythonSoftwareFoundation.Python.3.11_qbz5n2kfra8p0\\LocalCache\\local-packages\\Python311\\site-packages\\keras\\src\\ops\\function.py\", line 171, in _run_through_graph\n\n  File \"C:\\Users\\anyone\\AppData\\Local\\Packages\\PythonSoftwareFoundation.Python.3.11_qbz5n2kfra8p0\\LocalCache\\local-packages\\Python311\\site-packages\\keras\\src\\models\\functional.py\", line 632, in call\n\n  File \"C:\\Users\\anyone\\AppData\\Local\\Packages\\PythonSoftwareFoundation.Python.3.11_qbz5n2kfra8p0\\LocalCache\\local-packages\\Python311\\site-packages\\keras\\src\\utils\\traceback_utils.py\", line 117, in error_handler\n\n  File \"C:\\Users\\anyone\\AppData\\Local\\Packages\\PythonSoftwareFoundation.Python.3.11_qbz5n2kfra8p0\\LocalCache\\local-packages\\Python311\\site-packages\\keras\\src\\layers\\layer.py\", line 899, in __call__\n\n  File \"C:\\Users\\anyone\\AppData\\Local\\Packages\\PythonSoftwareFoundation.Python.3.11_qbz5n2kfra8p0\\LocalCache\\local-packages\\Python311\\site-packages\\keras\\src\\utils\\traceback_utils.py\", line 117, in error_handler\n\n  File \"C:\\Users\\anyone\\AppData\\Local\\Packages\\PythonSoftwareFoundation.Python.3.11_qbz5n2kfra8p0\\LocalCache\\local-packages\\Python311\\site-packages\\keras\\src\\ops\\operation.py\", line 46, in __call__\n\n  File \"C:\\Users\\anyone\\AppData\\Local\\Packages\\PythonSoftwareFoundation.Python.3.11_qbz5n2kfra8p0\\LocalCache\\local-packages\\Python311\\site-packages\\keras\\src\\utils\\traceback_utils.py\", line 156, in error_handler\n\n  File \"C:\\Users\\anyone\\AppData\\Local\\Packages\\PythonSoftwareFoundation.Python.3.11_qbz5n2kfra8p0\\LocalCache\\local-packages\\Python311\\site-packages\\keras\\src\\layers\\core\\dense.py\", line 148, in call\n\n  File \"C:\\Users\\anyone\\AppData\\Local\\Packages\\PythonSoftwareFoundation.Python.3.11_qbz5n2kfra8p0\\LocalCache\\local-packages\\Python311\\site-packages\\keras\\src\\activations\\activations.py\", line 47, in relu\n\n  File \"C:\\Users\\anyone\\AppData\\Local\\Packages\\PythonSoftwareFoundation.Python.3.11_qbz5n2kfra8p0\\LocalCache\\local-packages\\Python311\\site-packages\\keras\\src\\activations\\activations.py\", line 101, in static_call\n\n  File \"C:\\Users\\anyone\\AppData\\Local\\Packages\\PythonSoftwareFoundation.Python.3.11_qbz5n2kfra8p0\\LocalCache\\local-packages\\Python311\\site-packages\\keras\\src\\backend\\tensorflow\\nn.py\", line 15, in relu\n\nMatrix size-incompatible: In[0]: [32,2], In[1]: [4,32]\n\t [[{{node sequential_1/dense_1/Relu}}]] [Op:__inference_one_step_on_data_distributed_4412142]"
     ]
    }
   ],
   "source": [
    "model_file = \"best.keras\"\n",
    "if os.path.exists(model_file):\n",
    "    print(f\"Chargement du modèle existant : {model_file}\")\n",
    "    agent = DQNAgent(get_state_size(), board_shape=(20, 10),\n",
    "                     n_neurons=n_neurons, activations=activations,\n",
    "                     epsilon_stop_episode=epsilon_stop_episode, mem_size=mem_size,\n",
    "                     discount=discount, replay_start_size=replay_start_size,\n",
    "                     modelFile=model_file)\n",
    "else:\n",
    "    agent = DQNAgent(get_state_size(), board_shape=(20, 10),\n",
    "                     n_neurons=n_neurons, activations=activations,\n",
    "                     epsilon_stop_episode=epsilon_stop_episode, mem_size=mem_size,\n",
    "                     discount=discount, replay_start_size=replay_start_size,\n",
    "                     model_type='dense')\n",
    "\n",
    "scores = []\n",
    "best_score = 0\n",
    "\n",
    "for episode in tqdm(range(episodes)):\n",
    "    current_state = env.reset()  # État initial (vecteur de features)\n",
    "    #print(env.field)\n",
    "    done = False\n",
    "    steps = 0\n",
    "    render = render_every and episode % render_every == 0\n",
    "\n",
    "    while not done and (max_steps is None or steps < max_steps):\n",
    "        figure_type = np.random.randint(0, 7)  # Random figure type\n",
    "        next_states = get_next_state(env, figure_type)  # Call the function\n",
    "\n",
    "        if not next_states:\n",
    "            break\n",
    "\n",
    "        # Exploration or exploitation\n",
    "        if random.random() <= agent.epsilon:\n",
    "            # Random exploration\n",
    "            random_key = random.choice(list(next_states.keys()))\n",
    "            best_action, next_state_features = random_key, next_states[random_key]\n",
    "        else:\n",
    "            # Exploitation using DQN\n",
    "            best_state = agent.best_state(list(next_states.values()))\n",
    "\n",
    "            # Find the action tuple corresponding to the best feature tuple\n",
    "            best_action = None\n",
    "            for action, features in next_states.items():\n",
    "                if features == best_state:\n",
    "                    best_action = action\n",
    "                    next_state_features = features\n",
    "                    break\n",
    "\n",
    "            if best_action is None:\n",
    "                raise ValueError(\"No action found for the best state.\")\n",
    "        # Perform the action and retrieve reward and game status\n",
    "        x, rotation = best_action\n",
    "        reward, new_state, done = play_move(env, x, rotation)\n",
    "\n",
    "        # Add the transition to memory\n",
    "        agent.add_to_memory(current_state, best_action, reward, new_state, done)\n",
    "\n",
    "        current_state = new_state\n",
    "        steps += 1\n",
    "\n",
    "        # Entraînement en ligne (optionnel : pour apprendre directement après chaque step)\n",
    "        if episode >= agent.replay_start_size:\n",
    "            agent.train(batch_size=batch_size, epochs=epochs)\n",
    "\n",
    "    scores.append(env.reward)\n",
    "\n",
    "    # Mise à jour d'epsilon à la fin de chaque épisode\n",
    "    agent.update_epsilon()\n",
    "\n",
    "    # Affichage résumé tous les X épisodes\n",
    "    if (episode + 1) % 50 == 0:\n",
    "        avg_score = sum(scores[-50:]) / len(scores[-50:])\n",
    "        print(f\"Episode {episode+1}/{episodes} - Moyenne score (50 derniers) : {avg_score:.2f} - Epsilon : {agent.epsilon:.4f}\")\n",
    "\n",
    "    # Sauvegarder le meilleur modèle\n",
    "    if save_best_model and env.reward > best_score:\n",
    "        print(f\"✅ Nouveau meilleur modèle (score = {env.reward}, episode = {episode})\")\n",
    "        best_score = env.reward\n",
    "        agent.save_model(\"best.keras\")"
   ]
  }
 ],
 "metadata": {
  "kernelspec": {
   "display_name": "Python 3",
   "language": "python",
   "name": "python3"
  },
  "language_info": {
   "codemirror_mode": {
    "name": "ipython",
    "version": 3
   },
   "file_extension": ".py",
   "mimetype": "text/x-python",
   "name": "python",
   "nbconvert_exporter": "python",
   "pygments_lexer": "ipython3",
   "version": "3.11.9"
  }
 },
 "nbformat": 4,
 "nbformat_minor": 2
}
